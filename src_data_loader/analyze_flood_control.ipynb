{
 "cells": [
  {
   "cell_type": "code",
   "execution_count": 2,
   "metadata": {},
   "outputs": [],
   "source": [
    "import sqlite3\n",
    "import pandas as pd\n",
    "from pathlib import Path"
   ]
  },
  {
   "cell_type": "code",
   "execution_count": 3,
   "metadata": {},
   "outputs": [],
   "source": [
    "# Set options to display all columns and a larger number of rows\n",
    "pd.set_option('display.max_columns', None)\n",
    "pd.set_option('display.max_rows', 50) # You can adjust the number of rows as needed\n",
    "pd.set_option('display.width', 1000) # Optional: Increase the total display width"
   ]
  },
  {
   "cell_type": "code",
   "execution_count": 4,
   "metadata": {},
   "outputs": [
    {
     "name": "stdout",
     "output_type": "stream",
     "text": [
      "Notebook directory (current working directory): c:\\DEV\\FLOODGPT\\src_data_loader\n",
      "Correct database path: c:\\DEV\\FLOODGPT\\db\\analytics.db\n",
      "Connection successful!\n"
     ]
    }
   ],
   "source": [
    "# Get the current working directory, which is 'src_data_loader'\n",
    "notebook_dir = Path.cwd()\n",
    "print(f\"Notebook directory (current working directory): {notebook_dir}\")\n",
    "\n",
    "# Go up one level to the parent ('FLOODGPT'), then into the 'db' folder\n",
    "db_path = notebook_dir.parent / \"db\" / \"analytics.db\"\n",
    "print(f\"Correct database path: {db_path}\")\n",
    "\n",
    "# This connection will now work correctly\n",
    "conn = sqlite3.connect(db_path)\n",
    "print(\"Connection successful!\")\n",
    "\n"
   ]
  },
  {
   "cell_type": "code",
   "execution_count": 13,
   "metadata": {},
   "outputs": [
    {
     "name": "stdout",
     "output_type": "stream",
     "text": [
      "constructor_name\n",
      "license_no\n",
      "project\n",
      "date_eval\n",
      "implem_agency\n",
      "amount\n",
      "duration_cd\n",
      "status\n",
      "workmanship\n",
      "materials\n",
      "time\n",
      "facility\n",
      "environmental_safety_health\n",
      "resource_deployment\n",
      "cpes_visit_rating\n",
      "final_rating\n",
      "qualitative_desc\n",
      "pdf_file\n",
      "is_bad_row\n"
     ]
    }
   ],
   "source": [
    "cursor = conn.cursor()\n",
    "cursor.execute(\"PRAGMA table_info(cpes_projects);\")\n",
    "for col in cursor.fetchall():\n",
    "    print(col[1])"
   ]
  },
  {
   "cell_type": "code",
   "execution_count": 5,
   "metadata": {},
   "outputs": [
    {
     "name": "stdout",
     "output_type": "stream",
     "text": [
      "global_id\n",
      "infra_year\n",
      "region\n",
      "province\n",
      "municipality\n",
      "implementing_office\n",
      "project_id\n",
      "project_description\n",
      "project_component_id\n",
      "project_component_description\n",
      "program\n",
      "typeof_work\n",
      "infra_type\n",
      "longitude\n",
      "latitude\n",
      "contract_id\n",
      "abc\n",
      "contract_cost\n",
      "completion_date_original\n",
      "completion_year\n",
      "contractor\n",
      "object_id\n",
      "creation_date\n",
      "creator\n",
      "edit_date\n",
      "editor\n",
      "funding_year\n",
      "legislative_district\n",
      "district_engineering_office\n",
      "abc_string\n",
      "contract_cost_string\n",
      "completion_date_actual\n",
      "start_date\n",
      "type\n",
      "slug\n",
      "geo\n"
     ]
    }
   ],
   "source": [
    "cursor = conn.cursor()\n",
    "cursor.execute(\"PRAGMA table_info(flood_control_projects);\")\n",
    "for col in cursor.fetchall():\n",
    "    print(col[1])"
   ]
  },
  {
   "cell_type": "code",
   "execution_count": 18,
   "metadata": {},
   "outputs": [
    {
     "name": "stdout",
     "output_type": "stream",
     "text": [
      "   count ( constructor_name)\n",
      "0                      13753\n"
     ]
    }
   ],
   "source": [
    "sql_query = \"\"\"\n",
    "SELECT distinct count ( constructor_name)\n",
    "FROM cpes_projects\n",
    "ORDER BY 1 asc\n",
    "\"\"\"\n",
    "\n",
    "df = pd.read_sql(sql_query, conn)\n",
    "print(df)"
   ]
  },
  {
   "cell_type": "markdown",
   "metadata": {},
   "source": [
    "What are the top 5 flood control projects by budget? "
   ]
  },
  {
   "cell_type": "code",
   "execution_count": 15,
   "metadata": {},
   "outputs": [
    {
     "name": "stdout",
     "output_type": "stream",
     "text": [
      "                                 project_description          abc\n",
      "0  Construction of River Bank Protection along Al...  310576313.2\n",
      "1  Construction of River Bank Protection along Ma...  310576313.2\n",
      "2  Construction of River Bank Protection along Ba...  310576313.2\n",
      "3  Construction of River Bank Protection along Al...  310576313.2\n",
      "4  Construction of Road Dike/Esplanade along Siti...  289500000.0\n"
     ]
    }
   ],
   "source": [
    "sql_query = \"\"\"\n",
    "SELECT\n",
    "  project_description,\n",
    "  abc\n",
    "FROM flood_control_projects\n",
    "ORDER BY\n",
    "  abc DESC\n",
    "LIMIT 5;\n",
    "\"\"\"\n",
    "\n",
    "df = pd.read_sql(sql_query, conn)\n",
    "print(df)"
   ]
  },
  {
   "cell_type": "markdown",
   "metadata": {},
   "source": [
    "Which regions have the most completed projects?  "
   ]
  },
  {
   "cell_type": "code",
   "execution_count": 8,
   "metadata": {},
   "outputs": [
    {
     "name": "stdout",
     "output_type": "stream",
     "text": [
      "                              region  completed_projects_count\n",
      "0                         Region III                      1617\n",
      "1            National Capital Region                      1058\n",
      "2                           Region V                       866\n",
      "3                           Region I                       851\n",
      "4                        Region IV-A                       829\n",
      "5                          Region II                       628\n",
      "6                         Region VII                       614\n",
      "7                        Region VIII                       517\n",
      "8                          Region VI                       505\n",
      "9                        Region IV-B                       498\n",
      "10                          Region X                       428\n",
      "11                         Region XI                       356\n",
      "12  Cordillera Administrative Region                       352\n",
      "13                       Region XIII                       302\n",
      "14                        Region XII                       301\n",
      "15                         Region IX                       133\n"
     ]
    }
   ],
   "source": [
    "sql_query = \"\"\"\n",
    "SELECT\n",
    "  region,\n",
    "  COUNT(project_id) AS completed_projects_count\n",
    "FROM flood_control_projects\n",
    "WHERE\n",
    "  completion_date_actual IS NOT NULL\n",
    "GROUP BY\n",
    "  region\n",
    "ORDER BY\n",
    "  completed_projects_count DESC;\n",
    "\"\"\"\n",
    "\n",
    "df = pd.read_sql(sql_query, conn)\n",
    "print(df)"
   ]
  },
  {
   "cell_type": "markdown",
   "metadata": {},
   "source": [
    "Which regions have the highest total budget allocation?"
   ]
  },
  {
   "cell_type": "code",
   "execution_count": 5,
   "metadata": {},
   "outputs": [
    {
     "name": "stdout",
     "output_type": "stream",
     "text": [
      "                              region  total_budget_allocation\n",
      "0                         Region III             9.858121e+10\n",
      "1                           Region V             5.640419e+10\n",
      "2            National Capital Region             5.360433e+10\n",
      "3                        Region IV-A             4.095329e+10\n",
      "4                           Region I             3.992018e+10\n",
      "5                        Region IV-B             3.651700e+10\n",
      "6                          Region II             3.650277e+10\n",
      "7                         Region VII             3.629472e+10\n",
      "8                           Region X             2.782387e+10\n",
      "9                          Region VI             2.529625e+10\n",
      "10                       Region VIII             2.490216e+10\n",
      "11                       Region XIII             2.410276e+10\n",
      "12                         Region XI             2.131306e+10\n",
      "13  Cordillera Administrative Region             1.791211e+10\n",
      "14                        Region XII             1.713341e+10\n",
      "15                         Region IX             6.015695e+09\n"
     ]
    }
   ],
   "source": [
    "sql_query = \"\"\"\n",
    "SELECT\n",
    "  region,\n",
    "  SUM(abc) AS total_budget_allocation\n",
    "FROM flood_control_projects\n",
    "GROUP BY\n",
    "  region\n",
    "ORDER BY\n",
    "  total_budget_allocation DESC;\n",
    "\"\"\"\n",
    "\n",
    "df = pd.read_sql(sql_query, conn)\n",
    "print(df)"
   ]
  },
  {
   "cell_type": "markdown",
   "metadata": {},
   "source": [
    "Top 5 flood control projects by ABC?"
   ]
  },
  {
   "cell_type": "code",
   "execution_count": 10,
   "metadata": {},
   "outputs": [
    {
     "name": "stdout",
     "output_type": "stream",
     "text": [
      "                                 project_description          abc\n",
      "0  Construction of River Bank Protection along Al...  310576313.2\n",
      "1  Construction of River Bank Protection along Ma...  310576313.2\n",
      "2  Construction of River Bank Protection along Ba...  310576313.2\n",
      "3  Construction of River Bank Protection along Al...  310576313.2\n",
      "4  Construction of Road Dike/Esplanade along Siti...  289500000.0\n"
     ]
    }
   ],
   "source": [
    "sql_query = \"\"\"\n",
    "SELECT\n",
    "  project_description,\n",
    "  abc\n",
    "FROM flood_control_projects\n",
    "ORDER BY\n",
    "  abc DESC\n",
    "LIMIT 5;\n",
    "\"\"\"\n",
    "\n",
    "df = pd.read_sql(sql_query, conn)\n",
    "print(df)"
   ]
  },
  {
   "cell_type": "markdown",
   "metadata": {},
   "source": [
    "Average Contract Cost by Year"
   ]
  },
  {
   "cell_type": "code",
   "execution_count": 60,
   "metadata": {},
   "outputs": [
    {
     "name": "stdout",
     "output_type": "stream",
     "text": [
      "   infra_year Avg_Contract_Cost\n",
      "0        2025     41,446,655.00\n",
      "1        2024     61,449,634.00\n",
      "2        2023     58,631,254.00\n",
      "3        2022     49,267,565.00\n",
      "4        2021     49,107,776.00\n",
      "5        2020     69,695,056.00\n",
      "6        2019    111,942,309.00\n",
      "7        2018    104,965,936.00\n"
     ]
    }
   ],
   "source": [
    "sql_query = \"\"\"\n",
    "SELECT infra_year,  printf('%,.2f',CAST(AVG(contract_cost) AS INT)) AS Avg_Contract_Cost\n",
    "FROM flood_control_projects \n",
    "WHERE contract_cost IS NOT NULL AND contract_cost > 0\n",
    "GROUP BY infra_year\n",
    "ORDER BY 1 DESC;\n",
    "\"\"\"\n",
    "\n",
    "df = pd.read_sql(sql_query, conn)\n",
    "print(df)"
   ]
  },
  {
   "cell_type": "markdown",
   "metadata": {},
   "source": [
    "Projects by Infrastructure Year"
   ]
  },
  {
   "cell_type": "code",
   "execution_count": 61,
   "metadata": {},
   "outputs": [
    {
     "name": "stdout",
     "output_type": "stream",
     "text": [
      "   infra_year  Project_Count          Total_Cost\n",
      "0        2025             35    1,450,632,948.00\n",
      "1        2024           2354  144,652,439,107.00\n",
      "2        2023           3466  203,215,927,213.00\n",
      "3        2022           3334  164,258,062,059.00\n",
      "4        2021            620   30,446,821,662.00\n",
      "5        2020             36    2,509,022,023.00\n",
      "6        2019              3      335,826,928.00\n",
      "7        2018              7      734,761,554.00\n"
     ]
    }
   ],
   "source": [
    "sql_query = \"\"\"\n",
    "SELECT \n",
    "    infra_year, \n",
    "    COUNT(DISTINCT global_id) AS Project_Count, \n",
    "    printf('%,.2f',SUM(contract_cost)) AS Total_Cost \n",
    "FROM flood_control_projects \n",
    "GROUP BY infra_year \n",
    "ORDER BY infra_year DESC;\n",
    "\"\"\"\n",
    "\n",
    "df = pd.read_sql(sql_query, conn)\n",
    "print(df)"
   ]
  },
  {
   "cell_type": "markdown",
   "metadata": {},
   "source": [
    "Completion Rate by Completion Year"
   ]
  },
  {
   "cell_type": "code",
   "execution_count": 62,
   "metadata": {},
   "outputs": [
    {
     "name": "stdout",
     "output_type": "stream",
     "text": [
      "   completion_year  Completed_Projects\n",
      "0             2025                 376\n",
      "1             2024                3120\n",
      "2             2023                3828\n",
      "3             2022                2531\n"
     ]
    }
   ],
   "source": [
    "sql_query = \"\"\"\n",
    "SELECT \n",
    "    completion_year, \n",
    "    COUNT(DISTINCT global_id) AS Completed_Projects \n",
    "FROM flood_control_projects \n",
    "WHERE completion_date_actual IS NOT NULL \n",
    "GROUP BY completion_year ORDER BY completion_year DESC;\n",
    "\"\"\"\n",
    "\n",
    "df = pd.read_sql(sql_query, conn)\n",
    "print(df)\n"
   ]
  },
  {
   "cell_type": "markdown",
   "metadata": {},
   "source": [
    "On-Time vs. Delayed Projects by Contractors"
   ]
  },
  {
   "cell_type": "code",
   "execution_count": 63,
   "metadata": {},
   "outputs": [
    {
     "name": "stdout",
     "output_type": "stream",
     "text": [
      "                                          contractor  Total_Projects  On_Time_Projects  Delayed_Projects\n",
      "0  LEGACY CONSTRUCTION CORPORATION (FORMERLY: LEG...             115                44                71\n",
      "1               ST. TIMOTHY CONSTRUCTION CORPORATION              83                28                55\n",
      "2  ALPHA & OMEGA GEN. CONTRACTOR & DEVELOPMENT CORP.              84                33                51\n",
      "3                                        QM BUILDERS              88                39                49\n",
      "4       CENTERWAYS CONSTRUCTION AND DEVELOPMENT INC.              64                15                49\n"
     ]
    }
   ],
   "source": [
    "sql_query = \"\"\"\n",
    "SELECT \n",
    "    contractor,\n",
    "    COUNT(project_id) as Total_Projects,\n",
    "    SUM(CASE WHEN completion_date_actual <= completion_date_original THEN 1 ELSE 0 END) AS On_Time_Projects, \n",
    "    SUM(CASE WHEN completion_date_actual > completion_date_original THEN 1 ELSE 0 END) AS Delayed_Projects \n",
    "FROM flood_control_projects \n",
    "WHERE completion_date_actual IS NOT NULL\n",
    "GROUP BY contractor\n",
    "ORDER BY Delayed_Projects DESC\n",
    "LIMIT 5\n",
    "\"\"\"\n",
    "\n",
    "df = pd.read_sql(sql_query, conn)\n",
    "print(df)\n"
   ]
  },
  {
   "cell_type": "markdown",
   "metadata": {},
   "source": [
    "Contractor Performance Analysis (Sorted by Cost Control)\n",
    "- Total Financial Scale: Total_Cost_Formatted - \n",
    "    - Financial impact of the contractor's work.\n",
    "- Original Metrics: On_Time_Projects, Delayed_Projects\n",
    "    - Relative performance metric, normalizing for the total number of projects.\n",
    "- Performance Percentage: Delayed_Pct,\n",
    "- Average Delay Severity (in days): Avg_Delay_Days\n",
    "    - Severity of the average delay for the contractor.\n",
    "- Max Delay Severity (in days): Max_Delay_Days\n",
    "    - Worst-case scenario performance.\n",
    "- Cost Control Metric: Cost_Over_ABC_Count:\n",
    "    - How often the awarded cost exceeded the Approved Budget for the Contract."
   ]
  },
  {
   "cell_type": "code",
   "execution_count": 64,
   "metadata": {},
   "outputs": [
    {
     "name": "stdout",
     "output_type": "stream",
     "text": [
      "                                          contractor  Total_Projects Total_Cost_Formatted  On_Time_Projects  Delayed_Projects  Delayed_Pct  Avg_Days_Late_When_Delayed  Max_Delay_Days  Cost_Over_ABC_Count\n",
      "0                                     WAWAO BUILDERS              53     3,829,053,280.00                44                 8        15.09                       16.13            82.0                   22\n",
      "1  SUNWEST, INC. (FORMERLY: SUNWEST CONSTRUCTION ...              67     8,247,444,379.00                50                17        25.37                       12.29           157.0                   20\n",
      "2               ST. TIMOTHY CONSTRUCTION CORPORATION              83     5,473,908,390.00                28                55        66.27                       16.02           256.0                   18\n",
      "3  STO. CRISTO CONSTRUCTION & TRADING INC. (FOR: ...              46     3,513,475,069.00                13                33        71.74                        7.00           135.0                   16\n",
      "4                            MG SAMIDAN CONSTRUCTION              44     3,966,892,439.00                20                24        54.55                       41.88           648.0                   14\n"
     ]
    }
   ],
   "source": [
    "sql_query = \"\"\"\n",
    "WITH ContractorPerformance AS (\n",
    "    SELECT \n",
    "        contractor,\n",
    "        COUNT(project_id) AS Total_Projects,\n",
    "        SUM(contract_cost) AS Total_Cost,\n",
    "        SUM(CASE WHEN completion_date_actual <= completion_date_original THEN 1 ELSE 0 END) AS On_Time_Projects, \n",
    "        SUM(CASE WHEN completion_date_actual > completion_date_original THEN 1 ELSE 0 END) AS Delayed_Projects,\n",
    "        AVG(\n",
    "            CASE \n",
    "                WHEN JULIANDAY(completion_date_actual) > JULIANDAY(completion_date_original) \n",
    "                THEN JULIANDAY(completion_date_actual) - JULIANDAY(completion_date_original)\n",
    "                ELSE NULL -- Exclude on-time/early projects from the average calculation\n",
    "            END\n",
    "        ) AS Avg_Days_Late_When_Delayed,\n",
    "        MAX(JULIANDAY(completion_date_actual) - JULIANDAY(completion_date_original)) AS Max_Delay_Days,\n",
    "        SUM(CASE WHEN contract_cost > abc THEN 1 ELSE 0 END) AS Cost_Over_ABC_Count\n",
    "    FROM \n",
    "        flood_control_projects \n",
    "    WHERE \n",
    "        completion_date_actual IS NOT NULL\n",
    "    GROUP BY \n",
    "        contractor\n",
    ")\n",
    "-- Main SELECT Statement: Calculates the percentage using the aliases from the CTE\n",
    "SELECT\n",
    "    contractor,\n",
    "    Total_Projects,\n",
    "    printf('%,.2f', Total_Cost) AS Total_Cost_Formatted, \n",
    "    On_Time_Projects, \n",
    "    Delayed_Projects,\n",
    "    -- Now Delayed_Projects is a valid column alias for calculation\n",
    "    ROUND((CAST(Delayed_Projects AS REAL) * 100.0) / Total_Projects, 2) AS Delayed_Pct,\n",
    "    ROUND(Avg_Days_Late_When_Delayed, 2) AS Avg_Days_Late_When_Delayed,\n",
    "    Max_Delay_Days,\n",
    "    Cost_Over_ABC_Count\n",
    "FROM \n",
    "    ContractorPerformance\n",
    "ORDER BY \n",
    "    Cost_Over_ABC_Count DESC \n",
    "LIMIT 5;\n",
    "\"\"\"\n",
    "\n",
    "df = pd.read_sql(sql_query, conn)\n",
    "print(df)\n"
   ]
  },
  {
   "cell_type": "code",
   "execution_count": 71,
   "metadata": {},
   "outputs": [
    {
     "name": "stdout",
     "output_type": "stream",
     "text": [
      "                   district_engineering_office  Total_Projects Total_Cost_Formatted  On_Time_Projects  Delayed_Projects  Delayed_Pct  Avg_Days_Late_When_Delayed  Max_Delay_Days  Cost_Over_ABC_Count\n",
      "0      Bulacan 1st District Engineering Office             452    29,183,182,172.00               264               188        41.59                        1.92           165.0                  101\n",
      "1  Malabon-Navotas District Engineering Office             122     5,155,617,775.00                53                69        56.56                        1.01             2.0                   87\n",
      "2           Tarlac District Engineering Office             164    11,865,023,716.00                73                90        54.88                        1.87            64.0                   47\n",
      "3        Albay 1st District Engineering Office             101     5,366,885,766.00                46                55        54.46                        2.27            71.0                   43\n",
      "4      Bulacan 2nd District Engineering Office             190    12,399,706,597.00                61               129        67.89                        1.16            13.0                   38\n",
      "5             Abra District Engineering Office             105     7,652,897,196.00                39                66        62.86                       14.48           648.0                   37\n",
      "6       Quezon 3rd District Engineering Office              36     2,133,156,073.00                22                14        38.89                        1.00             1.0                   33\n",
      "7          Romblon District Engineering Office              86     6,159,336,776.00                61                25        29.07                       22.12           112.0                   25\n",
      "8          Biliran District Engineering Office              73     1,249,814,590.00                30                43        58.90                        9.26           171.0                   24\n",
      "9     Zambales 2nd District Engineering Office              34     2,455,047,023.00                25                 9        26.47                        1.00             1.0                   24\n"
     ]
    }
   ],
   "source": [
    "sql_query = \"\"\"\n",
    "WITH ContractorPerformance AS (\n",
    "    SELECT \n",
    "        district_engineering_office,\n",
    "        COUNT(project_id) AS Total_Projects,\n",
    "        SUM(contract_cost) AS Total_Cost,\n",
    "        SUM(CASE WHEN completion_date_actual <= completion_date_original THEN 1 ELSE 0 END) AS On_Time_Projects, \n",
    "        SUM(CASE WHEN completion_date_actual > completion_date_original THEN 1 ELSE 0 END) AS Delayed_Projects,\n",
    "        AVG(\n",
    "            CASE \n",
    "                WHEN JULIANDAY(completion_date_actual) > JULIANDAY(completion_date_original) \n",
    "                THEN JULIANDAY(completion_date_actual) - JULIANDAY(completion_date_original)\n",
    "                ELSE NULL -- Exclude on-time/early projects from the average calculation\n",
    "            END\n",
    "        ) AS Avg_Days_Late_When_Delayed,\n",
    "        MAX(JULIANDAY(completion_date_actual) - JULIANDAY(completion_date_original)) AS Max_Delay_Days,\n",
    "        SUM(CASE WHEN contract_cost > abc THEN 1 ELSE 0 END) AS Cost_Over_ABC_Count\n",
    "    FROM \n",
    "        flood_control_projects \n",
    "    WHERE \n",
    "        completion_date_actual IS NOT NULL\n",
    "    GROUP BY \n",
    "        district_engineering_office\n",
    ")\n",
    "-- Main SELECT Statement: Calculates the percentage using the aliases from the CTE\n",
    "SELECT\n",
    "    district_engineering_office,\n",
    "    Total_Projects,\n",
    "    printf('%,.2f', Total_Cost) AS Total_Cost_Formatted, \n",
    "    On_Time_Projects, \n",
    "    Delayed_Projects,\n",
    "    -- Now Delayed_Projects is a valid column alias for calculation\n",
    "    ROUND((CAST(Delayed_Projects AS REAL) * 100.0) / Total_Projects, 2) AS Delayed_Pct,\n",
    "    ROUND(Avg_Days_Late_When_Delayed, 2) AS Avg_Days_Late_When_Delayed,\n",
    "    Max_Delay_Days,\n",
    "    Cost_Over_ABC_Count\n",
    "FROM \n",
    "    ContractorPerformance\n",
    "ORDER BY \n",
    "    Cost_Over_ABC_Count DESC \n",
    "LIMIT 10;\n",
    "\"\"\"\n",
    "\n",
    "df = pd.read_sql(sql_query, conn)\n",
    "print(df)\n"
   ]
  },
  {
   "cell_type": "code",
   "execution_count": 72,
   "metadata": {},
   "outputs": [
    {
     "name": "stdout",
     "output_type": "stream",
     "text": [
      "                    district_engineering_office  Total_Projects Total_Cost_Formatted  On_Time_Projects  Delayed_Projects  Delayed_Pct  Avg_Days_Late_When_Delayed  Max_Delay_Days  Cost_Over_ABC_Count\n",
      "0       Bulacan 1st District Engineering Office             452    29,183,182,172.00               264               188        41.59                        1.92           165.0                  101\n",
      "1  Metro Manila 1st District Engineering Office             230    12,352,162,447.00                85               145        63.04                       14.97           255.0                   12\n",
      "2       Bulacan 2nd District Engineering Office             190    12,399,706,597.00                61               129        67.89                        1.16            13.0                   38\n",
      "3      Pampanga 3rd District Engineering Office             133     5,462,150,980.00                36                97        72.93                        2.11            91.0                    2\n",
      "4      La Union 2nd District Engineering Office             131     9,085,915,535.00                36                95        72.52                       89.36           473.0                    2\n",
      "5        Davao City District Engineering Office             122     6,629,729,225.00                28                94        77.05                        2.19            63.0                    0\n",
      "6  Metro Manila 2nd District Engineering Office             134     5,664,388,053.00                43                91        67.91                        9.34           331.0                    4\n",
      "7            Tarlac District Engineering Office             164    11,865,023,716.00                73                90        54.88                        1.87            64.0                   47\n",
      "8    Ilocos Sur 2nd District Engineering Office             104     2,813,193,276.00                15                89        85.58                      215.60           451.0                    0\n",
      "9      North Manila District Engineering Office             185    12,768,889,673.00               108                77        41.62                        1.44            28.0                    0\n"
     ]
    }
   ],
   "source": [
    "sql_query = \"\"\"\n",
    "WITH ContractorPerformance AS (\n",
    "    SELECT \n",
    "        district_engineering_office,\n",
    "        COUNT(project_id) AS Total_Projects,\n",
    "        SUM(contract_cost) AS Total_Cost,\n",
    "        SUM(CASE WHEN completion_date_actual <= completion_date_original THEN 1 ELSE 0 END) AS On_Time_Projects, \n",
    "        SUM(CASE WHEN completion_date_actual > completion_date_original THEN 1 ELSE 0 END) AS Delayed_Projects,\n",
    "        AVG(\n",
    "            CASE \n",
    "                WHEN JULIANDAY(completion_date_actual) > JULIANDAY(completion_date_original) \n",
    "                THEN JULIANDAY(completion_date_actual) - JULIANDAY(completion_date_original)\n",
    "                ELSE NULL -- Exclude on-time/early projects from the average calculation\n",
    "            END\n",
    "        ) AS Avg_Days_Late_When_Delayed,\n",
    "        MAX(JULIANDAY(completion_date_actual) - JULIANDAY(completion_date_original)) AS Max_Delay_Days,\n",
    "        SUM(CASE WHEN contract_cost > abc THEN 1 ELSE 0 END) AS Cost_Over_ABC_Count\n",
    "    FROM \n",
    "        flood_control_projects \n",
    "    WHERE \n",
    "        completion_date_actual IS NOT NULL\n",
    "    GROUP BY \n",
    "        district_engineering_office\n",
    ")\n",
    "-- Main SELECT Statement: Calculates the percentage using the aliases from the CTE\n",
    "SELECT\n",
    "    district_engineering_office,\n",
    "    Total_Projects,\n",
    "    printf('%,.2f', Total_Cost) AS Total_Cost_Formatted, \n",
    "    On_Time_Projects, \n",
    "    Delayed_Projects,\n",
    "    -- Now Delayed_Projects is a valid column alias for calculation\n",
    "    ROUND((CAST(Delayed_Projects AS REAL) * 100.0) / Total_Projects, 2) AS Delayed_Pct,\n",
    "    ROUND(Avg_Days_Late_When_Delayed, 2) AS Avg_Days_Late_When_Delayed,\n",
    "    Max_Delay_Days,\n",
    "    Cost_Over_ABC_Count\n",
    "FROM \n",
    "    ContractorPerformance\n",
    "ORDER BY \n",
    "    Delayed_Projects DESC \n",
    "LIMIT 10;\n",
    "\"\"\"\n",
    "\n",
    "df = pd.read_sql(sql_query, conn)\n",
    "print(df)\n"
   ]
  },
  {
   "cell_type": "markdown",
   "metadata": {},
   "source": [
    "Top 5 Regions by Total Cost"
   ]
  },
  {
   "cell_type": "code",
   "execution_count": 67,
   "metadata": {},
   "outputs": [
    {
     "name": "stdout",
     "output_type": "stream",
     "text": [
      "                    region         Total_Cost\n",
      "0               Region III  98,005,510,571.00\n",
      "1  National Capital Region  52,663,633,899.00\n",
      "2                Region IX   5,797,880,431.00\n",
      "3                 Region V  49,973,685,594.00\n",
      "4              Region IV-A  40,062,856,382.00\n"
     ]
    }
   ],
   "source": [
    "sql_query = \"\"\"\n",
    "SELECT region, \n",
    "     printf('%,.2f', SUM(contract_cost)) AS Total_Cost \n",
    "FROM flood_control_projects\n",
    "GROUP BY region \n",
    "ORDER BY Total_Cost DESC LIMIT 5;\n",
    "\"\"\"\n",
    "\n",
    "df = pd.read_sql(sql_query, conn)\n",
    "print(df)\n"
   ]
  },
  {
   "cell_type": "markdown",
   "metadata": {},
   "source": [
    "Projects by Province"
   ]
  },
  {
   "cell_type": "code",
   "execution_count": 73,
   "metadata": {},
   "outputs": [
    {
     "name": "stdout",
     "output_type": "stream",
     "text": [
      "            province  Project_Count\n",
      "0            BULACAN            668\n",
      "1               CEBU            414\n",
      "2            ISABELA            341\n",
      "3         PANGASINAN            313\n",
      "4           PAMPANGA            292\n",
      "..               ...            ...\n",
      "93          GUIMARAS              8\n",
      "94           QUIRINO              7\n",
      "95          SIQUIJOR              4\n",
      "96              SULU              3\n",
      "97  MANDALUYONG CITY              2\n",
      "\n",
      "[98 rows x 2 columns]\n"
     ]
    }
   ],
   "source": [
    "sql_query = \"\"\"\n",
    "SELECT province, COUNT(DISTINCT global_id) AS Project_Count \n",
    "FROM flood_control_projects GROUP BY province ORDER BY Project_Count DESC;\n",
    "\"\"\"\n",
    "\n",
    "df = pd.read_sql(sql_query, conn)\n",
    "print(df)\n"
   ]
  },
  {
   "cell_type": "markdown",
   "metadata": {},
   "source": [
    "Cost Distribution by Implementing Office"
   ]
  },
  {
   "cell_type": "code",
   "execution_count": 74,
   "metadata": {},
   "outputs": [
    {
     "name": "stdout",
     "output_type": "stream",
     "text": [
      "                                   implementing_office   Total_Cost\n",
      "0              Bulacan 1st District Engineering Office  28892332626\n",
      "1                                          Region IV-B  19041726130\n",
      "2                                             Region I  13681543675\n",
      "3             North Manila District Engineering Office  12768889673\n",
      "4                 Cebu 7th District Engineering Office  12663827775\n",
      "..                                                 ...          ...\n",
      "198            Iligan City District Engineering Office    197577184\n",
      "199  Zamboanga del Norte 4th District Engineering O...    166600000\n",
      "200             Cavite 2nd District Engineering Office    124557910\n",
      "201             Ifugao 1st District Engineering Office     37105105\n",
      "202               Siquijor District Engineering Office     19600000\n",
      "\n",
      "[203 rows x 2 columns]\n"
     ]
    }
   ],
   "source": [
    "sql_query = \"\"\"\n",
    "SELECT implementing_office, SUM(contract_cost) AS Total_Cost FROM flood_control_projects GROUP BY implementing_office ORDER BY Total_Cost DESC;\n",
    "\"\"\"\n",
    "\n",
    "df = pd.read_sql(sql_query, conn)\n",
    "print(df)\n"
   ]
  },
  {
   "cell_type": "markdown",
   "metadata": {},
   "source": [
    "Projects by Legislative DistricQt"
   ]
  },
  {
   "cell_type": "code",
   "execution_count": 76,
   "metadata": {},
   "outputs": [
    {
     "name": "stdout",
     "output_type": "stream",
     "text": [
      "                           legislative_district  Project_Count\n",
      "0         BULACAN (SECOND LEGISLATIVE DISTRICT)            192\n",
      "1           CEBU (SEVENTH LEGISLATIVE DISTRICT)            171\n",
      "2          BULACAN (FIRST LEGISLATIVE DISTRICT)            158\n",
      "3         PAMPANGA (FIRST LEGISLATIVE DISTRICT)            133\n",
      "4        LA UNION (SECOND LEGISLATIVE DISTRICT)            131\n",
      "..                                          ...            ...\n",
      "247             SIQUIJOR (LEGISLATIVE DISTRICT)              4\n",
      "248         BATAAN (THIRD LEGISLATIVE DISTRICT)              3\n",
      "249          SULU (SECOND LEGISLATIVE DISTRICT)              2\n",
      "250  CITY OF MANDALUYONG (LEGISLATIVE DISTRICT)              2\n",
      "251           SULU (FIRST LEGISLATIVE DISTRICT)              1\n",
      "\n",
      "[252 rows x 2 columns]\n"
     ]
    }
   ],
   "source": [
    "sql_query = \"\"\"\n",
    "SELECT legislative_district, COUNT(DISTINCT global_id) AS Project_Count FROM flood_control_projects GROUP BY legislative_district ORDER BY Project_Count DESC;\n",
    "\"\"\"\n",
    "\n",
    "df = pd.read_sql(sql_query, conn)\n",
    "print(df)\n"
   ]
  },
  {
   "cell_type": "markdown",
   "metadata": {},
   "source": [
    "Cost by Infrastructure Type"
   ]
  },
  {
   "cell_type": "code",
   "execution_count": 82,
   "metadata": {},
   "outputs": [
    {
     "name": "stdout",
     "output_type": "stream",
     "text": [
      "                                           typeof_work                            legislative_district  Total_Cost  Project_Count\n",
      "0           Construction of Flood Mitigation Structure             CEBU (SEVENTH LEGISLATIVE DISTRICT)  8616879641            116\n",
      "1           Construction of Flood Mitigation Structure          LA UNION (SECOND LEGISLATIVE DISTRICT)  8423532162            119\n",
      "2           Construction of Flood Mitigation Structure           BULACAN (SECOND LEGISLATIVE DISTRICT)  7913360668            121\n",
      "3           Construction of Flood Mitigation Structure                     ABRA (LEGISLATIVE DISTRICT)  7603900131            104\n",
      "4           Construction of Flood Mitigation Structure           ISABELA (FOURTH LEGISLATIVE DISTRICT)  6803054133             85\n",
      "..                                                 ...                                             ...         ...            ...\n",
      "902                 Construction of Drainage Structure            CAVITE (SECOND LEGISLATIVE DISTRICT)     3457587              1\n",
      "903  Rehabilitation / Major Repair of Drainage Stru...                  BENGUET (LEGISLATIVE DISTRICT)     2934796              1\n",
      "904  Rehabilitation / Major Repair of Drainage Stru...            CAGAYAN (THIRD LEGISLATIVE DISTRICT)     2475000              1\n",
      "905                 Construction of Drainage Structure      CAMARINES SUR (THIRD LEGISLATIVE DISTRICT)     1489100              1\n",
      "906  Rehabilitation / Major Repair of Slope Protect...  NEGROS OCCIDENTAL (FIFTH LEGISLATIVE DISTRICT)     1154359              1\n",
      "\n",
      "[907 rows x 4 columns]\n"
     ]
    }
   ],
   "source": [
    "sql_query = \"\"\"\n",
    "SELECT \n",
    "    typeof_work, \n",
    "    legislative_district,\n",
    "    SUM(contract_cost) AS Total_Cost, COUNT(DISTINCT global_id) AS Project_Count \n",
    "FROM flood_control_projects \n",
    "GROUP BY typeof_work, legislative_district\n",
    "ORDER BY Total_Cost DESC;\n",
    "\"\"\"\n",
    "\n",
    "df = pd.read_sql(sql_query, conn)\n",
    "print(df)\n"
   ]
  },
  {
   "cell_type": "markdown",
   "metadata": {},
   "source": [
    "Cost vs. ABC (Deviation)"
   ]
  },
  {
   "cell_type": "code",
   "execution_count": 84,
   "metadata": {},
   "outputs": [
    {
     "name": "stdout",
     "output_type": "stream",
     "text": [
      "                                 legislative_district  Avg_Cost_ABC_Deviation  Below_ABC_Count\n",
      "0                         ABRA (LEGISLATIVE DISTRICT)            4.747814e+05               66\n",
      "1       AGUSAN DEL NORTE (FIRST LEGISLATIVE DISTRICT)            2.700950e+04               52\n",
      "2      AGUSAN DEL NORTE (SECOND LEGISLATIVE DISTRICT)            1.153516e+05               36\n",
      "3         AGUSAN DEL SUR (FIRST LEGISLATIVE DISTRICT)            2.732023e+04               30\n",
      "4        AGUSAN DEL SUR (SECOND LEGISLATIVE DISTRICT)            5.986207e+01               18\n",
      "..                                                ...                     ...              ...\n",
      "247  ZAMBOANGA DEL NORTE (THIRD LEGISLATIVE DISTRICT)            1.342453e+05                6\n",
      "248    ZAMBOANGA DEL SUR (FIRST LEGISLATIVE DISTRICT)            2.859633e+05               14\n",
      "249   ZAMBOANGA DEL SUR (SECOND LEGISLATIVE DISTRICT)            4.093633e+06               10\n",
      "250    ZAMBOANGA SIBUGAY (FIRST LEGISLATIVE DISTRICT)            4.134449e+04                9\n",
      "251   ZAMBOANGA SIBUGAY (SECOND LEGISLATIVE DISTRICT)            5.053116e+06               16\n",
      "\n",
      "[252 rows x 3 columns]\n"
     ]
    }
   ],
   "source": [
    "sql_query = \"\"\"\n",
    "SELECT \n",
    "    legislative_district,\n",
    "    AVG(ABS(contract_cost - abc)) AS Avg_Cost_ABC_Deviation, \n",
    "    SUM(CASE WHEN contract_cost < abc THEN 1 ELSE 0 END) AS Below_ABC_Count \n",
    "FROM flood_control_projects \n",
    "WHERE abc IS NOT NULL AND contract_cost IS NOT NULL\n",
    "GROUP BY legislative_district;\n",
    "\"\"\"\n",
    "\n",
    "df = pd.read_sql(sql_query, conn)\n",
    "print(df)\n"
   ]
  }
 ],
 "metadata": {
  "kernelspec": {
   "display_name": "FLOODGPT",
   "language": "python",
   "name": "python3"
  },
  "language_info": {
   "codemirror_mode": {
    "name": "ipython",
    "version": 3
   },
   "file_extension": ".py",
   "mimetype": "text/x-python",
   "name": "python",
   "nbconvert_exporter": "python",
   "pygments_lexer": "ipython3",
   "version": "3.13.5"
  }
 },
 "nbformat": 4,
 "nbformat_minor": 2
}
